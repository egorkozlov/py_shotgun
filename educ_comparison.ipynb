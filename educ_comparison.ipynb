{
 "cells": [
  {
   "cell_type": "code",
   "execution_count": 1,
   "metadata": {},
   "outputs": [
    {
     "name": "stdout",
     "output_type": "stream",
     "text": [
      "Hi!\n"
     ]
    }
   ],
   "source": [
    "from platform import system\n",
    "from targets import target_values\n",
    "from residuals import mdl_resid\n",
    "from tiktak import filer\n",
    " \n",
    "print('Hi!')\n",
    " \n",
    "import os\n",
    "os.environ['MKL_CBWR']='AUTO'\n",
    "\n",
    "from estimates import get_point"
   ]
  },
  {
   "cell_type": "code",
   "execution_count": 2,
   "metadata": {},
   "outputs": [
    {
     "name": "stdout",
     "output_type": "stream",
     "text": [
      "{'sigma_psi': 0.3869773077864603, 'sigma_psi_init': 0.9938164169266216, 'pmeet_21': 0.26138291062442615, 'pmeet_30': 0.7186472606306563, 'pmeet_40': 0.6593653665181554, 'preg_21': 0.01355186141662465, 'preg_28': 0.026776949709968387, 'preg_35': 0.037440655536951584, 'u_shift_mar': 0.23416090232520456, 'util_alp': 0.4080762765646524, 'util_kap': 11.265720476636952, 'util_qbar': 30.846312906184785, 'disutil_marry_sm_mal': 16.579301983282175, 'disutil_shotgun': 7.775996065960521, 'abortion_costs': 7.10104593516042, 'p_abortion_access': 0.5697660445900381, 'u_lost_divorce': 13.108545716002517, 'mu_psi_init': -0.5566081252903454, 'high education': True}\n",
      "{'pmeet_21': 0.728698619306192, 'pmeet_30': 0.23310107046750475, 'pmeet_40': 0.9629955398495929, 'preg_21': 0.03687725755909954, 'preg_28': 0.0743925695472168, 'preg_35': 0.19133138664351215, 'util_qbar': 25.181454069571686, 'disutil_marry_sm_mal': 14.040986098063753, 'disutil_shotgun': 5.8766374053947485, 'abortion_costs': 4.317887395330901, 'p_abortion_access': 0.6662455812243002, 'u_lost_divorce': 5.439790568560208, 'sigma_psi': 0.3869773077864603, 'sigma_psi_init': 0.9938164169266216, 'u_shift_mar': 0.23416090232520456, 'util_alp': 0.4080762765646524, 'util_kap': 11.265720476636952, 'mu_psi_init': -0.5566081252903454, 'high education': False}\n"
     ]
    }
   ],
   "source": [
    "x_base, tm = get_point(True,read_wisdom=False) # high education\n",
    "\n",
    "tar = target_values(tm)\n",
    "\n",
    "x_comp, _ = get_point(False,read_wisdom=False) # low education\n",
    "print(x_base)\n",
    "print(x_comp)"
   ]
  },
  {
   "cell_type": "code",
   "execution_count": 3,
   "metadata": {},
   "outputs": [
    {
     "name": "stdout",
     "output_type": "stream",
     "text": [
      "['educ comparison: college', 'educ comparison: trend only', 'educ comparison: pmeets', 'educ comparison: ppregs', 'educ comparison: remar', 'educ comparison: stigma', 'educ comparison: div costs', 'educ comparison: qbar', 'educ comparison: abortions', 'educ comparison: all probs', 'educ comparison: all prefs', 'educ comparison: trend and all prefs', 'educ comparison: trend and all probs', 'educ comparison: trend and abortions', 'educ comparison: all but trend', 'educ comparison: high school']\n"
     ]
    }
   ],
   "source": [
    "pmeets = ['pmeet_21','pmeet_30','pmeet_40']\n",
    "ppregs = ['preg_21','preg_28','preg_35']\n",
    "abortions = ['abortion_costs','p_abortion_access']\n",
    "prefs = ['disutil_marry_sm_mal','disutil_shotgun','u_lost_divorce','util_qbar']\n",
    "# form xlist\n",
    "he = ['high education']\n",
    "replace_fields = [('trend only',he),\n",
    "                  ('pmeets',pmeets),\n",
    "                  ('ppregs',ppregs),\n",
    "                  ('remar',['disutil_marry_sm_mal']),\n",
    "                  ('stigma',['disutil_shotgun']),            \n",
    "                  ('div costs',['u_lost_divorce']),\n",
    "                  ('qbar',['util_qbar']),\n",
    "                  ('abortions',abortions),\n",
    "                  ('all probs',pmeets+ppregs),\n",
    "                  ('all prefs',prefs),\n",
    "                  ('prefs and pmeets',prefs+pmeets),\n",
    "                  ('prefs and ppregs',prefs+ppregs),\n",
    "                  ('prefs and abortions',prefs+abortions),\n",
    "                  ('probs and abortions',pmeets+ppregs+abortions),\n",
    "                  ('trend and all prefs',he+prefs),\n",
    "                  ('trend and all probs',he+pmeets+ppregs),   \n",
    "                  ('trend and abortions',he+abortions),\n",
    "                  ('all but trend',prefs+pmeets+ppregs+abortions)\n",
    "                 ]\n",
    "\n",
    "xlist = [x_base]\n",
    "names = ['college']\n",
    "for name, rf in replace_fields:\n",
    "    xnew = x_base.copy()\n",
    "    for f in rf:\n",
    "        xnew[f] = x_comp[f]\n",
    "    xlist.append(xnew)\n",
    "    names.append(name)\n",
    "    \n",
    "names.append('high school')\n",
    "xlist.append(x_comp)\n",
    "\n",
    "names = ['educ comparison: '+ n for n in names]\n",
    "print(names)"
   ]
  },
  {
   "cell_type": "code",
   "execution_count": 12,
   "metadata": {},
   "outputs": [
    {
     "name": "stdout",
     "output_type": "stream",
     "text": [
      "educ comparison: college\n",
      "Divorced in cross-section: 11.1 KF, 4.1 MF, ratio 5.8\n",
      "educ comparison: trend only\n",
      "Divorced in cross-section: 7.0 KF, 1.8 MF, ratio 8.4\n",
      "educ comparison: pmeets\n",
      "Divorced in cross-section: 12.7 KF, 1.4 MF, ratio 31.5\n",
      "educ comparison: ppregs\n",
      "Divorced in cross-section: 8.5 KF, 5.1 MF, ratio 3.1\n",
      "educ comparison: remar\n",
      "Divorced in cross-section: 10.2 KF, 4.6 MF, ratio 4.3\n",
      "educ comparison: stigma\n",
      "Divorced in cross-section: 11.4 KF, 4.1 MF, ratio 5.9\n",
      "educ comparison: div costs\n",
      "Divorced in cross-section: 43.5 KF, 4.7 MF, ratio 18.5\n",
      "educ comparison: qbar\n",
      "Divorced in cross-section: 11.4 KF, 4.4 MF, ratio 5.4\n",
      "educ comparison: abortions\n",
      "Divorced in cross-section: 11.3 KF, 4.1 MF, ratio 6.0\n",
      "educ comparison: all probs\n",
      "Divorced in cross-section: 8.1 KF, 4.9 MF, ratio 8.2\n",
      "educ comparison: all prefs\n",
      "Divorced in cross-section: 17.3 KF, 5.4 MF, ratio 5.7\n",
      "educ comparison: trend and all prefs\n",
      "Divorced in cross-section: 16.4 KF, 3.1 MF, ratio 9.0\n",
      "educ comparison: trend and all probs\n",
      "Divorced in cross-section: 8.7 KF, 6.5 MF, ratio 7.4\n",
      "educ comparison: trend and abortions\n",
      "Divorced in cross-section: 7.1 KF, 1.8 MF, ratio 8.7\n",
      "educ comparison: all but trend\n",
      "Divorced in cross-section: 23.5 KF, 9.4 MF, ratio 4.5\n",
      "educ comparison: high school\n",
      "Divorced in cross-section: 22.4 KF, 11.6 MF, ratio 3.1\n"
     ]
    }
   ],
   "source": [
    "for x, name in zip(xlist,names):        \n",
    "    print(name)\n",
    "    #print(x)\n",
    "    '''\n",
    "    out,  mom = mdl_resid(x=x,targets=tar,\n",
    "                                      return_format=['distance','moments'],\n",
    "                                      verbose=False,draw=False,cs_moments=False,\n",
    "                                      save_to ='mdl for {}'.format(name),\n",
    "                                      moments_save_name = name,\n",
    "                                      moments_repeat=5)\n",
    "    '''\n",
    "    mom = filer(name + '.pkl',0,0,repeat=False)\n",
    "    div_10_kf = mom['divorced by years after marriage if kids first, 5']\n",
    "    div_10_mf = mom['divorced by years after marriage if marriage first, 5']\n",
    "    share_kf_35 = mom['k then m in sample at 35']\n",
    "    div_cs_kf = mom['divorced if k then m and one marriage']\n",
    "    div_cs_mf = mom['divorced if m then k and one marriage']\n",
    "    print('Divorced in cross-section: {:2.1f} KF, {:2.1f} MF, ratio {:2.1f}'.format(100*div_cs_kf,100*div_cs_mf,div_10_kf/div_10_mf))\n",
    "    #print('% KF in sample at 35: {}'.format(share_kf_35))\n",
    "    #print('Divorced in CS years: {} KF, {} MF'.format(div_cs_kf,div_cs_mf))"
   ]
  },
  {
   "cell_type": "code",
   "execution_count": null,
   "metadata": {},
   "outputs": [],
   "source": []
  },
  {
   "cell_type": "code",
   "execution_count": null,
   "metadata": {},
   "outputs": [],
   "source": []
  }
 ],
 "metadata": {
  "kernelspec": {
   "display_name": "Python 3",
   "language": "python",
   "name": "python3"
  },
  "language_info": {
   "codemirror_mode": {
    "name": "ipython",
    "version": 3
   },
   "file_extension": ".py",
   "mimetype": "text/x-python",
   "name": "python",
   "nbconvert_exporter": "python",
   "pygments_lexer": "ipython3",
   "version": "3.7.7"
  }
 },
 "nbformat": 4,
 "nbformat_minor": 4
}
