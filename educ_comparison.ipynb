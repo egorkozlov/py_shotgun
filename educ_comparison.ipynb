{
 "cells": [
  {
   "cell_type": "code",
   "execution_count": 1,
   "metadata": {},
   "outputs": [
    {
     "name": "stdout",
     "output_type": "stream",
     "text": [
      "Hi!\n"
     ]
    }
   ],
   "source": [
    "from platform import system\n",
    "from targets import target_values\n",
    "from residuals import mdl_resid\n",
    "from tiktak import filer\n",
    " \n",
    "print('Hi!')\n",
    " \n",
    "import os\n",
    "os.environ['MKL_CBWR']='AUTO'\n",
    "\n",
    "from estimates import get_point"
   ]
  },
  {
   "cell_type": "code",
   "execution_count": 2,
   "metadata": {},
   "outputs": [
    {
     "name": "stdout",
     "output_type": "stream",
     "text": [
      "{'sigma_psi': 0.027268830885338255, 'sigma_psi_init': 0.06339133519302645, 'pmeet_21': 0.3569362725195867, 'pmeet_30': 0.9628592233484828, 'pmeet_40': 1.1704234292809106, 'preg_21': -0.015866855637179933, 'preg_28': 0.043316603543868036, 'preg_35': 0.020097545487628904, 'u_shift_kid': 0.34721250316485286, 'util_alp': 0.835406970749947, 'util_kap': 7.05916305161216, 'util_qbar': 24.773413887762146, 'disutil_marry_sm_mal': 5.1821467886513135, 'disutil_shotgun': 0.4498277728839909, 'abortion_costs': 3.3182833443497595, 'p_abortion_access': 0.9999999999999999, 'u_lost_divorce': 1.0144551678278904, 'u_shift_couple': -0.15901890672822355, 'high education': True}\n",
      "{'sigma_psi': 0.07093449649862323, 'sigma_psi_init': 0.08759636476463531, 'pmeet_21': 0.9834007245324519, 'pmeet_30': 0.47357212912815544, 'pmeet_40': 1.8, 'preg_21': 0.12480484210586817, 'preg_28': 0.042304523668244894, 'preg_35': 0.11392943091633873, 'u_shift_kid': 0.3490083638523084, 'util_alp': 0.5233049221230953, 'util_kap': 6.49573917220798, 'util_qbar': 0.0, 'disutil_marry_sm_mal': 4.596972303706986, 'disutil_shotgun': 0.6814982929606277, 'abortion_costs': 0.22625043911567236, 'p_abortion_access': 0.6822142355727618, 'u_lost_divorce': 1.1941067384331807, 'u_shift_couple': -0.31738133254087253, 'high education': False}\n"
     ]
    }
   ],
   "source": [
    "x_base, tm = get_point(True,read_wisdom=False) # high education\n",
    "\n",
    "tar = target_values(tm)\n",
    "\n",
    "x_comp, _ = get_point(False,read_wisdom=False) # low education\n",
    "print(x_base)\n",
    "print(x_comp)"
   ]
  },
  {
   "cell_type": "code",
   "execution_count": 3,
   "metadata": {},
   "outputs": [
    {
     "name": "stdout",
     "output_type": "stream",
     "text": [
      "['educ comparison: college', 'educ comparison: match quality', 'educ comparison: preferences', 'educ comparison: trend only', 'educ comparison: pmeets', 'educ comparison: ppregs', 'educ comparison: remar', 'educ comparison: stigma', 'educ comparison: div costs', 'educ comparison: qbar', 'educ comparison: abortions', 'educ comparison: match and prefs', 'educ comparison: high school']\n"
     ]
    }
   ],
   "source": [
    "pmeets = ['pmeet_21','pmeet_30','pmeet_40']\n",
    "ppregs = ['preg_21','preg_28','preg_35']\n",
    "abortions = ['abortion_costs','p_abortion_access']\n",
    "shifters = ['disutil_marry_sm_mal','disutil_shotgun','u_lost_divorce','util_qbar']\n",
    "prefs = ['u_shift_kid','u_shift_couple','util_alp','util_kap']\n",
    "match = ['sigma_psi','sigma_psi_init']\n",
    "he = ['high education']\n",
    "replace_fields = [('match quality',match),\n",
    "                  ('preferences',prefs),\n",
    "                  ('trend only',he),\n",
    "                  ('pmeets',pmeets),\n",
    "                  ('ppregs',ppregs),\n",
    "                  ('remar',['disutil_marry_sm_mal']),\n",
    "                  ('stigma',['disutil_shotgun']),            \n",
    "                  ('div costs',['u_lost_divorce']),\n",
    "                  ('qbar',['util_qbar']),\n",
    "                  ('abortions',abortions),                  \n",
    "                  ('match and prefs',match+prefs)\n",
    "                 ]\n",
    "\n",
    "xlist = [x_base]\n",
    "names = ['college']\n",
    "for name, rf in replace_fields:\n",
    "    xnew = x_base.copy()\n",
    "    for f in rf:\n",
    "        xnew[f] = x_comp[f]\n",
    "    xlist.append(xnew)\n",
    "    names.append(name)\n",
    "    \n",
    "names.append('high school')\n",
    "xlist.append(x_comp)\n",
    "\n",
    "names = ['educ comparison: '+ n for n in names]\n",
    "print(names)"
   ]
  },
  {
   "cell_type": "code",
   "execution_count": 4,
   "metadata": {},
   "outputs": [
    {
     "name": "stdout",
     "output_type": "stream",
     "text": [
      "educ comparison: college\n",
      "using cupy!\n"
     ]
    },
    {
     "name": "stderr",
     "output_type": "stream",
     "text": [
      "/projects/p30190/py_shotgun/simulations.py:612: RuntimeWarning: invalid value encountered in long_scalars\n",
      "  self.share_aborted[t] = 100*n_abortions / (n_abortions + n_kept)\n",
      "/projects/p30190/py_shotgun/moments.py:118: RuntimeWarning: Mean of empty slice.\n",
      "  moments['ever kids by years after marriage, {}'.format(t)] = ever_kid[pick & (self.yaftmar==t)].mean()\n",
      "/projects/p30190/shotgunenv/lib/python3.8/site-packages/numpy/core/_methods.py:170: RuntimeWarning: invalid value encountered in double_scalars\n",
      "  ret = ret.dtype.type(ret / rcount)\n",
      "/projects/p30190/py_shotgun/moments.py:254: RuntimeWarning: Mean of empty slice.\n",
      "  moments['k then m in sample at {}'.format(21+i)] = obs_k_m[in_sample[:,i],i].mean()\n"
     ]
    },
    {
     "name": "stdout",
     "output_type": "stream",
     "text": [
      "Distance 0.025201935619040154, time 55.06\n",
      "educ comparison: match quality\n",
      "Distance 0.38606453789138123, time 47.04\n",
      "educ comparison: preferences\n",
      "Distance 14.652999428296198, time 87.77\n",
      "educ comparison: trend only\n",
      "Distance 1.8810519366118912, time 62.28\n",
      "educ comparison: pmeets\n",
      "Distance 0.13759301382137923, time 51.12\n",
      "educ comparison: ppregs\n",
      "Distance 0.3497939454439442, time 48.12\n",
      "educ comparison: remar\n",
      "Distance 0.025769698175517084, time 50.96\n",
      "educ comparison: stigma\n",
      "Distance 0.029137570796072886, time 50.53\n",
      "educ comparison: div costs\n",
      "Distance 0.03439097909501689, time 50.61\n",
      "educ comparison: qbar\n",
      "Distance 0.030685061408548688, time 51.28\n",
      "educ comparison: abortions\n",
      "Distance 0.03251821211233713, time 51.4\n",
      "educ comparison: match and prefs\n",
      "Distance 3.492552093194198, time 61.86\n",
      "educ comparison: high school\n",
      "Distance 2.0149628267040693, time 68.12\n"
     ]
    }
   ],
   "source": [
    "for x, name in zip(xlist,names):        \n",
    "    print(name)\n",
    "    #print(x)\n",
    "    \n",
    "    out,  mom = mdl_resid(x=x,targets=tar,\n",
    "                                      return_format=['distance','moments'],\n",
    "                                      verbose=False,draw=False,cs_moments=False,\n",
    "                                      save_to ='mdl for {}'.format(name),\n",
    "                                      moments_save_name = name,\n",
    "                                      moments_repeat=5)\n",
    "    \n",
    "    \n",
    "    \n",
    "    \n",
    "    \n"
   ]
  },
  {
   "cell_type": "code",
   "execution_count": 5,
   "metadata": {},
   "outputs": [
    {
     "name": "stdout",
     "output_type": "stream",
     "text": [
      " & Col & HS & MQ & CP & CPMQ & I & M & P & D & R & S & A & Q \\\\\n",
      "divorced if kids first & 19.5 & 23.3 & 25.2 & 31.4 & 43.0 & 9.7 & 19.4 & 14.1 & 16.3 & 18.5 & 21.3 & 14.9 & 21.3 \\\\\n",
      "divorced if marriage first & 5.3 & 16.5 & 6.9 & 32.8 & 28.2 & 1.9 & 4.8 & 4.5 & 4.6 & 5.3 & 5.3 & 5.0 & 5.2 \\\\\n",
      "divorced ratio KF/MF & 3.7 & 1.4 & 3.7 & 1.0 & 1.5 & 5.1 & 4.0 & 3.1 & 3.6 & 3.5 & 4.0 & 3.0 & 4.1 \\\\\n",
      "relative KF at 35 & 10.8 & 33.3 & 12.6 & 9.4 & 9.1 & 19.5 & 7.5 & 23.8 & 10.8 & 11.0 & 12.0 & 9.7 & 11.5 \\\\\n"
     ]
    }
   ],
   "source": [
    "# this converts moments to outputs\n",
    "names_select = [('Col','educ comparison: college'),\n",
    "                ('HS','educ comparison: high school'), \n",
    "                ('MQ','educ comparison: match quality'),\n",
    "                ('CP','educ comparison: preferences'),\n",
    "                ('CPMQ','educ comparison: match and prefs'),                \n",
    "                ('I','educ comparison: trend only'),\n",
    "                ('M','educ comparison: pmeets'), \n",
    "                ('P','educ comparison: ppregs'),\n",
    "                ('D','educ comparison: div costs'),\n",
    "                ('R','educ comparison: remar'), \n",
    "                ('S','educ comparison: stigma'),\n",
    "                ('A','educ comparison: abortions'),\n",
    "                ('Q','educ comparison: qbar')]\n",
    "\n",
    "tags = ''\n",
    "div_kfs = 'divorced if kids first'\n",
    "div_mfs = 'divorced if marriage first'\n",
    "div_rats = 'divorced ratio KF/MF'\n",
    "kf_rels = 'relative KF at 35'\n",
    "\n",
    "for tag, name in names_select:\n",
    "    mom = filer(name + '.pkl',0,0,repeat=False)\n",
    "    div_10_kf = mom['divorced by years after marriage if kids first, 10']\n",
    "    div_10_mf = mom['divorced by years after marriage if marriage first, 10']\n",
    "    share_kf_35 = mom['k then m in sample at 35']\n",
    "    div_cs_kf = mom['divorced if k then m and one marriage']\n",
    "    div_cs_mf = mom['divorced if m then k and one marriage']\n",
    "    div_kfs += ' & {:02.1f}'.format(100*div_10_kf)\n",
    "    div_mfs += ' & {:02.1f}'.format(100*div_10_mf)\n",
    "    div_rats += ' & {:02.1f}'.format(div_10_kf/div_10_mf)\n",
    "    kf_rels += ' & {:02.1f}'.format(100*share_kf_35)\n",
    "    tags += (' & ' + tag)\n",
    "    \n",
    "tags += r' \\\\'\n",
    "div_kfs += r' \\\\'\n",
    "div_mfs += r' \\\\'\n",
    "div_rats += r' \\\\'\n",
    "kf_rels += r' \\\\'\n",
    "\n",
    "    \n",
    "print(tags)\n",
    "print(div_kfs)\n",
    "print(div_mfs)\n",
    "print(div_rats)\n",
    "print(kf_rels)\n",
    "    \n"
   ]
  },
  {
   "cell_type": "code",
   "execution_count": 6,
   "metadata": {},
   "outputs": [
    {
     "data": {
      "text/plain": [
       "\"\\nnames_select = [('HS','educ comparison backwards: high school'),\\n                ('Col','educ comparison backwards: college'), \\n                ('I','educ comparison backwards: trend only'),\\n                ('M','educ comparison backwards: pmeets'), \\n                ('P','educ comparison backwards: ppregs'),\\n                ('D','educ comparison backwards: div costs'),\\n                ('R','educ comparison backwards: remar'), \\n                ('S','educ comparison backwards: stigma'),\\n                ('A','educ comparison backwards: abortions'),\\n                ('Q','educ comparison backwards: qbar')]\\n\\ntags = ''\\ndiv_kfs = 'divorced if kids first'\\ndiv_mfs = 'divorced if marriage first'\\ndiv_rats = 'divorced ratio KF/MF'\\nkf_rels = 'relative KF at 35'\\n\\nfor tag, name in names_select:\\n    mom = filer(name + '.pkl',0,0,repeat=False)\\n    div_10_kf = mom['divorced by years after marriage if kids first, 5']\\n    div_10_mf = mom['divorced by years after marriage if marriage first, 5']\\n    share_kf_35 = mom['k then m in sample at 35']\\n    div_cs_kf = mom['divorced if k then m and one marriage']\\n    div_cs_mf = mom['divorced if m then k and one marriage']\\n    div_kfs += ' & {:02.1f}'.format(100*div_10_kf)\\n    div_mfs += ' & {:02.1f}'.format(100*div_10_mf)\\n    div_rats += ' & {:02.1f}'.format(div_10_kf/div_10_mf)\\n    kf_rels += ' & {:02.1f}'.format(100*share_kf_35)\\n    tags += (' & ' + tag)\\n    \\ntags += r' \\\\'\\ndiv_kfs += r' \\\\'\\ndiv_mfs += r' \\\\'\\ndiv_rats += r' \\\\'\\nkf_rels += r' \\\\'\\n\\n    \\nprint(tags)\\nprint(div_kfs)\\nprint(div_mfs)\\nprint(div_rats)\\nprint(kf_rels)\\n\""
      ]
     },
     "execution_count": 6,
     "metadata": {},
     "output_type": "execute_result"
    }
   ],
   "source": [
    "# this converts moments to outputs\n",
    "\n",
    "'''\n",
    "names_select = [('HS','educ comparison backwards: high school'),\n",
    "                ('Col','educ comparison backwards: college'), \n",
    "                ('I','educ comparison backwards: trend only'),\n",
    "                ('M','educ comparison backwards: pmeets'), \n",
    "                ('P','educ comparison backwards: ppregs'),\n",
    "                ('D','educ comparison backwards: div costs'),\n",
    "                ('R','educ comparison backwards: remar'), \n",
    "                ('S','educ comparison backwards: stigma'),\n",
    "                ('A','educ comparison backwards: abortions'),\n",
    "                ('Q','educ comparison backwards: qbar')]\n",
    "\n",
    "tags = ''\n",
    "div_kfs = 'divorced if kids first'\n",
    "div_mfs = 'divorced if marriage first'\n",
    "div_rats = 'divorced ratio KF/MF'\n",
    "kf_rels = 'relative KF at 35'\n",
    "\n",
    "for tag, name in names_select:\n",
    "    mom = filer(name + '.pkl',0,0,repeat=False)\n",
    "    div_10_kf = mom['divorced by years after marriage if kids first, 5']\n",
    "    div_10_mf = mom['divorced by years after marriage if marriage first, 5']\n",
    "    share_kf_35 = mom['k then m in sample at 35']\n",
    "    div_cs_kf = mom['divorced if k then m and one marriage']\n",
    "    div_cs_mf = mom['divorced if m then k and one marriage']\n",
    "    div_kfs += ' & {:02.1f}'.format(100*div_10_kf)\n",
    "    div_mfs += ' & {:02.1f}'.format(100*div_10_mf)\n",
    "    div_rats += ' & {:02.1f}'.format(div_10_kf/div_10_mf)\n",
    "    kf_rels += ' & {:02.1f}'.format(100*share_kf_35)\n",
    "    tags += (' & ' + tag)\n",
    "    \n",
    "tags += r' \\\\'\n",
    "div_kfs += r' \\\\'\n",
    "div_mfs += r' \\\\'\n",
    "div_rats += r' \\\\'\n",
    "kf_rels += r' \\\\'\n",
    "\n",
    "    \n",
    "print(tags)\n",
    "print(div_kfs)\n",
    "print(div_mfs)\n",
    "print(div_rats)\n",
    "print(kf_rels)\n",
    "'''\n",
    "\n"
   ]
  },
  {
   "cell_type": "code",
   "execution_count": null,
   "metadata": {},
   "outputs": [],
   "source": []
  }
 ],
 "metadata": {
  "kernelspec": {
   "display_name": "py_shotgun env",
   "language": "python",
   "name": "python3"
  },
  "language_info": {
   "codemirror_mode": {
    "name": "ipython",
    "version": 3
   },
   "file_extension": ".py",
   "mimetype": "text/x-python",
   "name": "python",
   "nbconvert_exporter": "python",
   "pygments_lexer": "ipython3",
   "version": "3.8.5"
  }
 },
 "nbformat": 4,
 "nbformat_minor": 4
}
