{
 "cells": [
  {
   "cell_type": "code",
   "execution_count": 1,
   "metadata": {},
   "outputs": [
    {
     "name": "stdout",
     "output_type": "stream",
     "text": [
      "Hi!\n"
     ]
    }
   ],
   "source": [
    "from platform import system\n",
    "from targets import target_values\n",
    "from residuals import mdl_resid\n",
    "from tiktak import filer\n",
    " \n",
    "print('Hi!')\n",
    " \n",
    "import os\n",
    "os.environ['MKL_CBWR']='AUTO'\n",
    "\n",
    "from estimates import get_point"
   ]
  },
  {
   "cell_type": "code",
   "execution_count": 2,
   "metadata": {},
   "outputs": [
    {
     "name": "stdout",
     "output_type": "stream",
     "text": [
      "{'sigma_psi': 0.02351795998155682, 'sigma_psi_init': 0.06319749482803798, 'pmeet_21': 0.36231065032307264, 'pmeet_30': 1.2185173549427066, 'pmeet_40': 1.0, 'preg_21': 0.006683178914886262, 'preg_28': 0.030446109898106186, 'preg_35': 0.026257274180916695, 'u_shift_mar': 0.24749413577501758, 'util_alp': 0.5739290298121097, 'util_kap': 8.484242183675391, 'util_qbar': 5.561954628246849, 'disutil_marry_sm_mal': 4.408415907989258, 'disutil_shotgun': 0.4715857724582857, 'abortion_costs': 1.8092065614536414, 'p_abortion_access': 0.9512267376733684, 'u_lost_divorce': 0.8892578980806901, 'mu_psi_init': -0.15876965206098093, 'high education': True}\n",
      "{'sigma_psi': 0.04119975516565719, 'sigma_psi_init': 0.07184509981781, 'pmeet_21': 0.7300641341551373, 'pmeet_30': 0.38552526708748397, 'pmeet_40': 1.4132304041226518, 'preg_21': 0.1029100967053943, 'preg_28': 0.11241132276639117, 'preg_35': 0.11203564468462099, 'u_shift_mar': 0.338428482678413, 'util_alp': 0.5195282434982275, 'util_kap': 7.152398760885778, 'util_qbar': 0.0, 'disutil_marry_sm_mal': 3.18966037249299, 'disutil_shotgun': 0.3647670950676456, 'abortion_costs': 0.2962878054482049, 'p_abortion_access': 0.6662167114665236, 'u_lost_divorce': 0.5275074834332285, 'mu_psi_init': -0.24342175587968384, 'high education': False}\n"
     ]
    }
   ],
   "source": [
    "x_base, tm = get_point(True,read_wisdom=False) # high education\n",
    "\n",
    "tar = target_values(tm)\n",
    "\n",
    "x_comp, _ = get_point(False,read_wisdom=False) # low education\n",
    "print(x_base)\n",
    "print(x_comp)"
   ]
  },
  {
   "cell_type": "code",
   "execution_count": 3,
   "metadata": {},
   "outputs": [
    {
     "name": "stdout",
     "output_type": "stream",
     "text": [
      "['educ comparison: college', 'educ comparison: match quality', 'educ comparison: preferences', 'educ comparison: trend only', 'educ comparison: pmeets', 'educ comparison: ppregs', 'educ comparison: remar', 'educ comparison: stigma', 'educ comparison: div costs', 'educ comparison: qbar', 'educ comparison: abortions', 'educ comparison: match and prefs', 'educ comparison: high school']\n"
     ]
    }
   ],
   "source": [
    "pmeets = ['pmeet_21','pmeet_30','pmeet_40']\n",
    "ppregs = ['preg_21','preg_28','preg_35']\n",
    "abortions = ['abortion_costs','p_abortion_access']\n",
    "shifters = ['disutil_marry_sm_mal','disutil_shotgun','u_lost_divorce','util_qbar']\n",
    "prefs = ['u_shift_mar','util_alp','util_kap']\n",
    "match = ['sigma_psi','sigma_psi_init','mu_psi_init']\n",
    "he = ['high education']\n",
    "replace_fields = [('match quality',match),\n",
    "                  ('preferences',prefs),\n",
    "                  ('trend only',he),\n",
    "                  ('pmeets',pmeets),\n",
    "                  ('ppregs',ppregs),\n",
    "                  ('remar',['disutil_marry_sm_mal']),\n",
    "                  ('stigma',['disutil_shotgun']),            \n",
    "                  ('div costs',['u_lost_divorce']),\n",
    "                  ('qbar',['util_qbar']),\n",
    "                  ('abortions',abortions),                  \n",
    "                  ('match and prefs',match+prefs)\n",
    "                 ]\n",
    "\n",
    "xlist = [x_base]\n",
    "names = ['college']\n",
    "for name, rf in replace_fields:\n",
    "    xnew = x_base.copy()\n",
    "    for f in rf:\n",
    "        xnew[f] = x_comp[f]\n",
    "    xlist.append(xnew)\n",
    "    names.append(name)\n",
    "    \n",
    "names.append('high school')\n",
    "xlist.append(x_comp)\n",
    "\n",
    "names = ['educ comparison: '+ n for n in names]\n",
    "print(names)"
   ]
  },
  {
   "cell_type": "code",
   "execution_count": 4,
   "metadata": {},
   "outputs": [
    {
     "name": "stdout",
     "output_type": "stream",
     "text": [
      "educ comparison: college\n",
      "using cupy!\n"
     ]
    },
    {
     "name": "stderr",
     "output_type": "stream",
     "text": [
      "/projects/p30190/py_shotgun/simulations.py:612: RuntimeWarning: invalid value encountered in long_scalars\n",
      "  self.share_aborted[t] = 100*n_abortions / (n_abortions + n_kept)\n",
      "/projects/p30190/py_shotgun/moments.py:118: RuntimeWarning: Mean of empty slice.\n",
      "  moments['ever kids by years after marriage, {}'.format(t)] = ever_kid[pick & (self.yaftmar==t)].mean()\n",
      "/projects/p30190/shotgunenv/lib/python3.8/site-packages/numpy/core/_methods.py:161: RuntimeWarning: invalid value encountered in double_scalars\n",
      "  ret = ret.dtype.type(ret / rcount)\n"
     ]
    },
    {
     "name": "stdout",
     "output_type": "stream",
     "text": [
      "Distance 1.6960509353824487, time 74.31\n",
      "educ comparison: match quality\n",
      "Distance 214.1207945011066, time 90.47\n",
      "educ comparison: preferences\n",
      "Distance 86.93019925767078, time 63.55\n",
      "educ comparison: trend only\n",
      "Distance 194.0946235902452, time 81.77\n",
      "educ comparison: pmeets\n",
      "Distance 28.888477184934043, time 75.95\n",
      "educ comparison: ppregs\n",
      "Distance 74.18140449093626, time 67.57\n",
      "educ comparison: remar\n",
      "Distance 2.9308342226752147, time 70.57\n",
      "educ comparison: stigma\n",
      "Distance 1.9582995053905208, time 71.56\n",
      "educ comparison: div costs\n",
      "Distance 16.233234465264605, time 72.52\n",
      "educ comparison: qbar\n",
      "Distance 1.6803385354328082, time 71.36\n",
      "educ comparison: abortions\n",
      "Distance 2.458533659005753, time 72.31\n",
      "educ comparison: match and prefs\n",
      "Distance 255.84424864188406, time 76.19\n",
      "educ comparison: high school\n",
      "Distance 199.59947821837557, time 84.11\n"
     ]
    }
   ],
   "source": [
    "for x, name in zip(xlist,names):        \n",
    "    print(name)\n",
    "    #print(x)\n",
    "    \n",
    "    out,  mom = mdl_resid(x=x,targets=tar,\n",
    "                                      return_format=['distance','moments'],\n",
    "                                      verbose=False,draw=False,cs_moments=False,\n",
    "                                      save_to ='mdl for {}'.format(name),\n",
    "                                      moments_save_name = name,\n",
    "                                      moments_repeat=5)\n",
    "    \n",
    "    \n",
    "    \n",
    "    \n",
    "    \n"
   ]
  },
  {
   "cell_type": "code",
   "execution_count": 12,
   "metadata": {},
   "outputs": [
    {
     "name": "stdout",
     "output_type": "stream",
     "text": [
      " & Col & HS & MQ & CP & CPMQ & I & M & P & D & R & S & A & Q \\\\\n",
      "divorced if kids first & 21.2 & 21.7 & 43.5 & 12.7 & 31.9 & 10.0 & 21.3 & 17.7 & 32.7 & 17.8 & 18.9 & 15.3 & 21.5 \\\\\n",
      "divorced if marriage first & 5.7 & 15.8 & 25.6 & 9.8 & 23.0 & 1.6 & 5.7 & 5.7 & 9.1 & 6.5 & 5.7 & 5.6 & 5.7 \\\\\n",
      "divorced ratio KF/MF & 3.7 & 1.4 & 1.7 & 1.3 & 1.4 & 6.1 & 3.8 & 3.1 & 3.6 & 2.7 & 3.3 & 2.7 & 3.8 \\\\\n",
      "relative KF at 35 & 9.2 & 33.6 & 8.4 & 7.5 & 6.5 & 24.9 & 7.0 & 30.1 & 9.5 & 9.9 & 8.7 & 8.2 & 9.2 \\\\\n"
     ]
    }
   ],
   "source": [
    "# this converts moments to outputs\n",
    "names_select = [('Col','educ comparison: college'),\n",
    "                ('HS','educ comparison: high school'), \n",
    "                ('MQ','educ comparison: match quality'),\n",
    "                ('CP','educ comparison: preferences'),\n",
    "                ('CPMQ','educ comparison: match and prefs'),                \n",
    "                ('I','educ comparison: trend only'),\n",
    "                ('M','educ comparison: pmeets'), \n",
    "                ('P','educ comparison: ppregs'),\n",
    "                ('D','educ comparison: div costs'),\n",
    "                ('R','educ comparison: remar'), \n",
    "                ('S','educ comparison: stigma'),\n",
    "                ('A','educ comparison: abortions'),\n",
    "                ('Q','educ comparison: qbar')]\n",
    "\n",
    "tags = ''\n",
    "div_kfs = 'divorced if kids first'\n",
    "div_mfs = 'divorced if marriage first'\n",
    "div_rats = 'divorced ratio KF/MF'\n",
    "kf_rels = 'relative KF at 35'\n",
    "\n",
    "for tag, name in names_select:\n",
    "    mom = filer(name + '.pkl',0,0,repeat=False)\n",
    "    div_10_kf = mom['divorced by years after marriage if kids first, 10']\n",
    "    div_10_mf = mom['divorced by years after marriage if marriage first, 10']\n",
    "    share_kf_35 = mom['k then m in sample at 35']\n",
    "    div_cs_kf = mom['divorced if k then m and one marriage']\n",
    "    div_cs_mf = mom['divorced if m then k and one marriage']\n",
    "    div_kfs += ' & {:02.1f}'.format(100*div_10_kf)\n",
    "    div_mfs += ' & {:02.1f}'.format(100*div_10_mf)\n",
    "    div_rats += ' & {:02.1f}'.format(div_10_kf/div_10_mf)\n",
    "    kf_rels += ' & {:02.1f}'.format(100*share_kf_35)\n",
    "    tags += (' & ' + tag)\n",
    "    \n",
    "tags += r' \\\\'\n",
    "div_kfs += r' \\\\'\n",
    "div_mfs += r' \\\\'\n",
    "div_rats += r' \\\\'\n",
    "kf_rels += r' \\\\'\n",
    "\n",
    "    \n",
    "print(tags)\n",
    "print(div_kfs)\n",
    "print(div_mfs)\n",
    "print(div_rats)\n",
    "print(kf_rels)\n",
    "    \n"
   ]
  },
  {
   "cell_type": "code",
   "execution_count": 6,
   "metadata": {},
   "outputs": [
    {
     "name": "stdout",
     "output_type": "stream",
     "text": [
      "Problems opening the file educ comparison backwards: high school.pkl\n"
     ]
    },
    {
     "ename": "Exception",
     "evalue": "could not open the file",
     "output_type": "error",
     "traceback": [
      "\u001b[0;31m---------------------------------------------------------------------------\u001b[0m",
      "\u001b[0;31mFileNotFoundError\u001b[0m                         Traceback (most recent call last)",
      "\u001b[0;32m/projects/p30190/py_shotgun/tiktak.py\u001b[0m in \u001b[0;36mfiler\u001b[0;34m(filename, array, write, repeat)\u001b[0m\n\u001b[1;32m    121\u001b[0m             \u001b[0;32melse\u001b[0m\u001b[0;34m:\u001b[0m\u001b[0;34m\u001b[0m\u001b[0;34m\u001b[0m\u001b[0m\n\u001b[0;32m--> 122\u001b[0;31m                 \u001b[0;32mwith\u001b[0m \u001b[0mopen\u001b[0m\u001b[0;34m(\u001b[0m\u001b[0mfilename\u001b[0m\u001b[0;34m,\u001b[0m \u001b[0;34m'rb'\u001b[0m\u001b[0;34m)\u001b[0m \u001b[0;32mas\u001b[0m \u001b[0mfile\u001b[0m\u001b[0;34m:\u001b[0m\u001b[0;34m\u001b[0m\u001b[0;34m\u001b[0m\u001b[0m\n\u001b[0m\u001b[1;32m    123\u001b[0m                     \u001b[0marray\u001b[0m\u001b[0;34m=\u001b[0m\u001b[0mpickle\u001b[0m\u001b[0;34m.\u001b[0m\u001b[0mload\u001b[0m\u001b[0;34m(\u001b[0m\u001b[0mfile\u001b[0m\u001b[0;34m)\u001b[0m\u001b[0;34m\u001b[0m\u001b[0;34m\u001b[0m\u001b[0m\n",
      "\u001b[0;31mFileNotFoundError\u001b[0m: [Errno 2] No such file or directory: 'educ comparison backwards: high school.pkl'",
      "\nDuring handling of the above exception, another exception occurred:\n",
      "\u001b[0;31mException\u001b[0m                                 Traceback (most recent call last)",
      "\u001b[0;32m<ipython-input-6-b6f22ad69a27>\u001b[0m in \u001b[0;36m<module>\u001b[0;34m\u001b[0m\n\u001b[1;32m     18\u001b[0m \u001b[0;34m\u001b[0m\u001b[0m\n\u001b[1;32m     19\u001b[0m \u001b[0;32mfor\u001b[0m \u001b[0mtag\u001b[0m\u001b[0;34m,\u001b[0m \u001b[0mname\u001b[0m \u001b[0;32min\u001b[0m \u001b[0mnames_select\u001b[0m\u001b[0;34m:\u001b[0m\u001b[0;34m\u001b[0m\u001b[0;34m\u001b[0m\u001b[0m\n\u001b[0;32m---> 20\u001b[0;31m     \u001b[0mmom\u001b[0m \u001b[0;34m=\u001b[0m \u001b[0mfiler\u001b[0m\u001b[0;34m(\u001b[0m\u001b[0mname\u001b[0m \u001b[0;34m+\u001b[0m \u001b[0;34m'.pkl'\u001b[0m\u001b[0;34m,\u001b[0m\u001b[0;36m0\u001b[0m\u001b[0;34m,\u001b[0m\u001b[0;36m0\u001b[0m\u001b[0;34m,\u001b[0m\u001b[0mrepeat\u001b[0m\u001b[0;34m=\u001b[0m\u001b[0;32mFalse\u001b[0m\u001b[0;34m)\u001b[0m\u001b[0;34m\u001b[0m\u001b[0;34m\u001b[0m\u001b[0m\n\u001b[0m\u001b[1;32m     21\u001b[0m     \u001b[0mdiv_10_kf\u001b[0m \u001b[0;34m=\u001b[0m \u001b[0mmom\u001b[0m\u001b[0;34m[\u001b[0m\u001b[0;34m'divorced by years after marriage if kids first, 5'\u001b[0m\u001b[0;34m]\u001b[0m\u001b[0;34m\u001b[0m\u001b[0;34m\u001b[0m\u001b[0m\n\u001b[1;32m     22\u001b[0m     \u001b[0mdiv_10_mf\u001b[0m \u001b[0;34m=\u001b[0m \u001b[0mmom\u001b[0m\u001b[0;34m[\u001b[0m\u001b[0;34m'divorced by years after marriage if marriage first, 5'\u001b[0m\u001b[0;34m]\u001b[0m\u001b[0;34m\u001b[0m\u001b[0;34m\u001b[0m\u001b[0m\n",
      "\u001b[0;32m/projects/p30190/py_shotgun/tiktak.py\u001b[0m in \u001b[0;36mfiler\u001b[0;34m(filename, array, write, repeat)\u001b[0m\n\u001b[1;32m    129\u001b[0m         \u001b[0;32mexcept\u001b[0m\u001b[0;34m:\u001b[0m\u001b[0;34m\u001b[0m\u001b[0;34m\u001b[0m\u001b[0m\n\u001b[1;32m    130\u001b[0m             \u001b[0mprint\u001b[0m\u001b[0;34m(\u001b[0m\u001b[0;34m'Problems opening the file {}'\u001b[0m\u001b[0;34m.\u001b[0m\u001b[0mformat\u001b[0m\u001b[0;34m(\u001b[0m\u001b[0mfilename\u001b[0m\u001b[0;34m)\u001b[0m\u001b[0;34m)\u001b[0m\u001b[0;34m\u001b[0m\u001b[0;34m\u001b[0m\u001b[0m\n\u001b[0;32m--> 131\u001b[0;31m             \u001b[0;32mif\u001b[0m \u001b[0;32mnot\u001b[0m \u001b[0mrepeat\u001b[0m\u001b[0;34m:\u001b[0m \u001b[0;32mraise\u001b[0m \u001b[0mException\u001b[0m\u001b[0;34m(\u001b[0m\u001b[0;34m'could not open the file'\u001b[0m\u001b[0;34m)\u001b[0m\u001b[0;34m\u001b[0m\u001b[0;34m\u001b[0m\u001b[0m\n\u001b[0m\u001b[1;32m    132\u001b[0m             \u001b[0;31m#sleep(0.5)\u001b[0m\u001b[0;34m\u001b[0m\u001b[0;34m\u001b[0m\u001b[0;34m\u001b[0m\u001b[0m\n\u001b[1;32m    133\u001b[0m \u001b[0;34m\u001b[0m\u001b[0m\n",
      "\u001b[0;31mException\u001b[0m: could not open the file"
     ]
    }
   ],
   "source": [
    "# this converts moments to outputs\n",
    "\n",
    "'''\n",
    "names_select = [('HS','educ comparison backwards: high school'),\n",
    "                ('Col','educ comparison backwards: college'), \n",
    "                ('I','educ comparison backwards: trend only'),\n",
    "                ('M','educ comparison backwards: pmeets'), \n",
    "                ('P','educ comparison backwards: ppregs'),\n",
    "                ('D','educ comparison backwards: div costs'),\n",
    "                ('R','educ comparison backwards: remar'), \n",
    "                ('S','educ comparison backwards: stigma'),\n",
    "                ('A','educ comparison backwards: abortions'),\n",
    "                ('Q','educ comparison backwards: qbar')]\n",
    "\n",
    "tags = ''\n",
    "div_kfs = 'divorced if kids first'\n",
    "div_mfs = 'divorced if marriage first'\n",
    "div_rats = 'divorced ratio KF/MF'\n",
    "kf_rels = 'relative KF at 35'\n",
    "\n",
    "for tag, name in names_select:\n",
    "    mom = filer(name + '.pkl',0,0,repeat=False)\n",
    "    div_10_kf = mom['divorced by years after marriage if kids first, 5']\n",
    "    div_10_mf = mom['divorced by years after marriage if marriage first, 5']\n",
    "    share_kf_35 = mom['k then m in sample at 35']\n",
    "    div_cs_kf = mom['divorced if k then m and one marriage']\n",
    "    div_cs_mf = mom['divorced if m then k and one marriage']\n",
    "    div_kfs += ' & {:02.1f}'.format(100*div_10_kf)\n",
    "    div_mfs += ' & {:02.1f}'.format(100*div_10_mf)\n",
    "    div_rats += ' & {:02.1f}'.format(div_10_kf/div_10_mf)\n",
    "    kf_rels += ' & {:02.1f}'.format(100*share_kf_35)\n",
    "    tags += (' & ' + tag)\n",
    "    \n",
    "tags += r' \\\\'\n",
    "div_kfs += r' \\\\'\n",
    "div_mfs += r' \\\\'\n",
    "div_rats += r' \\\\'\n",
    "kf_rels += r' \\\\'\n",
    "\n",
    "    \n",
    "print(tags)\n",
    "print(div_kfs)\n",
    "print(div_mfs)\n",
    "print(div_rats)\n",
    "print(kf_rels)\n",
    "'''\n",
    "\n"
   ]
  },
  {
   "cell_type": "code",
   "execution_count": null,
   "metadata": {},
   "outputs": [],
   "source": []
  }
 ],
 "metadata": {
  "kernelspec": {
   "display_name": "py_shotgun env",
   "language": "python",
   "name": "python3"
  },
  "language_info": {
   "codemirror_mode": {
    "name": "ipython",
    "version": 3
   },
   "file_extension": ".py",
   "mimetype": "text/x-python",
   "name": "python",
   "nbconvert_exporter": "python",
   "pygments_lexer": "ipython3",
   "version": "3.8.3"
  }
 },
 "nbformat": 4,
 "nbformat_minor": 4
}
